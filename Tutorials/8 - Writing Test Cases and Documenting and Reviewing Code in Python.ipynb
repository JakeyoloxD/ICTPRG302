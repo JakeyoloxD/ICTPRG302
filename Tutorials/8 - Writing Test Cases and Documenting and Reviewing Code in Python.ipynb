{
 "cells": [
  {
   "cell_type": "markdown",
   "id": "6b563305",
   "metadata": {},
   "source": [
    "# Tutorial - Writing Test Cases and Documenting and Reviewing Code in Python\n",
    "\n",
    "In this tutorial, we will guide you through the process of writing test cases, documenting code using comments, and reviewing code in Python. Writing test cases helps ensure that your code functions as expected, documenting code using comments improves readability and maintainability, and reviewing code helps identify and fix potential issues. We will cover writing test cases, adding comments to code, and conducting code reviews. Let's get started!"
   ]
  },
  {
   "cell_type": "markdown",
   "id": "368c236d",
   "metadata": {},
   "source": [
    "## Writing Test Cases\n",
    "\n",
    "In the code cell below, type the following Python code:\n",
    "\n",
    "```python\n",
    "\n",
    "# Example of writing test cases\n",
    "\n",
    "def square(number):\n",
    "    return number ** 2\n",
    "\n",
    "# Test cases\n",
    "\n",
    "assert square(2) == 4\n",
    "assert square(5) == 25\n",
    "assert square(10) == 100\n",
    "\n",
    "```\n",
    "\n",
    "This code defines a function named `square` that calculates the square of a given number. It includes test cases using the `assert` statement to verify the expected results of the function. \n",
    "\n",
    "Run the code cell by pressing `Shift` + `Enter` or clicking on the \"Run\" button in the toolbar. If all test cases pass, there will be no output. If a test case fails, an error message will be displayed. "
   ]
  },
  {
   "cell_type": "code",
   "execution_count": 6,
   "id": "a29cf195",
   "metadata": {},
   "outputs": [],
   "source": [
    "# Example of writing test cases\n",
    "\n",
    "def square(number):\n",
    "    return number ** 2\n",
    "\n",
    "# Test cases\n",
    "\n",
    "assert square(2) == 4\n",
    "assert square(5) == 25\n",
    "assert square(10) == 100"
   ]
  },
  {
   "cell_type": "markdown",
   "id": "e05b5f7f",
   "metadata": {},
   "source": [
    "Add more test cases to cover different scenarios and potential edge cases.\n",
    "\n",
    "For example\n",
    "\n",
    "```python\n",
    "\n",
    "assert square(9) == 82 # this is to demonstrate an error\n",
    "\n",
    "```\n",
    "\n",
    "Run the code cell above again and observe the output to ensure that the function behaves as expected. "
   ]
  },
  {
   "cell_type": "markdown",
   "id": "dcf119bd",
   "metadata": {},
   "source": [
    "## Documenting Code using Comments\n",
    "\n",
    "In the code cell below, type in the following Python code:\n",
    "\n",
    "```python\n",
    "\n",
    "# Example of documenting code using comments\n",
    "\n",
    "def calculate_average(numbers):\n",
    "    \"\"\"\n",
    "    Calculates the average of a list of numbers.\n",
    "    Args:\n",
    "        numbers (list): A list of numbers.\n",
    "    Returns:\n",
    "        float: The average of the numbers.\n",
    "    \"\"\"\n",
    "    \n",
    "    total = sum(numbers)\n",
    "    \n",
    "    average = total / len(numbers)\n",
    "    \n",
    "    return average \n",
    "\n",
    "``` \n",
    "\n",
    "This code defines a function named `calculate_average` that calculates the average of a list of numbers. The function includes a docstring, which is a comment block that provides a description of the function, its arguments, and its return value.\n",
    "   \n",
    "Run the code cell by pressing `Shift` + `Enter` or clicking on the \"Run\" button in the toolbar."
   ]
  },
  {
   "cell_type": "code",
   "execution_count": 7,
   "id": "f90e1144",
   "metadata": {},
   "outputs": [],
   "source": []
  },
  {
   "cell_type": "markdown",
   "id": "d868e776",
   "metadata": {},
   "source": [
    "Access the documentation of the function by placing the cursor inside the function parentheses and pressing `Shift` + `Tab`. A tooltip will appear with the function's docstring.\n",
    "\n",
    "Add more comments to your code to explain complex logic, provide clarifications, or improve readability. "
   ]
  },
  {
   "cell_type": "markdown",
   "id": "7030c2e8",
   "metadata": {},
   "source": [
    "## Reviewing Code\n",
    "\n",
    "In the code cell below, type in the following Python code:\n",
    "\n",
    "```python\n",
    "\n",
    "# Example of reviewing code\n",
    "\n",
    "def multiply_numbers(a, b):\n",
    "    return a * b\n",
    "\n",
    "def calculate_total(numbers):\n",
    "    total = sum(numbers)\n",
    "    return total\n",
    "\n",
    "# Review the code\n",
    "# - Check for syntax errors\n",
    "# - Verify variable naming conventions\n",
    "# - Ensure code readability and maintainability\n",
    "# - Suggest improvements if necessary\n",
    "\n",
    "``` \n",
    "\n",
    "This code includes two functions, `multiply_numbers` and `calculate_total`. It also includes comments that guide the code review process. \n",
    "\n",
    "Review the code by following the comments. Check for syntax errors, verify variable naming conventions, ensure code readability and maintainability, and suggest improvements if necessary."
   ]
  },
  {
   "cell_type": "code",
   "execution_count": null,
   "id": "4d1dc681",
   "metadata": {},
   "outputs": [],
   "source": []
  },
  {
   "cell_type": "markdown",
   "id": "8a0445d2",
   "metadata": {},
   "source": [
    "Congratulations! You have learned how to write test cases, document code using comments, and review code in Python. Writing test cases helps ensure that your code functions correctly, documenting code improves readability and maintainability, and reviewing code helps identify and fix potential issues.\n",
    "\n",
    "Continue practicing by writing comprehensive test cases, adding detailed comments to your code, and performing code reviews on your own and others' code. These practices contribute to writing high-quality and maintainable code.\n",
    "\n",
    "Enjoy writing test cases, documenting code, and reviewing code in Python!"
   ]
  }
 ],
 "metadata": {
  "kernelspec": {
   "display_name": "Python 3 (ipykernel)",
   "language": "python",
   "name": "python3"
  },
  "language_info": {
   "codemirror_mode": {
    "name": "ipython",
    "version": 3
   },
   "file_extension": ".py",
   "mimetype": "text/x-python",
   "name": "python",
   "nbconvert_exporter": "python",
   "pygments_lexer": "ipython3",
   "version": "3.11.3"
  }
 },
 "nbformat": 4,
 "nbformat_minor": 5
}
