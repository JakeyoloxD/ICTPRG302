{
 "cells": [
  {
   "cell_type": "markdown",
   "id": "a300b365",
   "metadata": {},
   "source": [
    "# Tutorial - Handling Exceptions in Python\n",
    "\n",
    "In this tutorial, we will guide you through the process of handling exceptions in Python. Exception handling allows you to gracefully handle errors and prevent program crashes. We will cover techniques such as implementing exception handling using `try-except` blocks. Let's get started!"
   ]
  },
  {
   "cell_type": "markdown",
   "id": "4013b35b",
   "metadata": {},
   "source": [
    "## Print Debugging\n",
    "\n",
    "In the code cell below, type in the following Python code:\n",
    "\n",
    "```python \n",
    "\n",
    "# Example of print debugging \n",
    "\n",
    "def divide_numbers(a, b):\n",
    "    print(\"Dividing\", a, \"by\", b)\n",
    "    result = a / b\n",
    "    print(\"Result:\", result)\n",
    "    return result\n",
    "\n",
    "dividend = 10\n",
    "\n",
    "divisor = 0\n",
    "\n",
    "quotient = divide_numbers(dividend, divisor) \n",
    "\n",
    "```\n",
    "\n",
    "This code defines a function named `divide_numbers` that takes two parameters, `a` and `b`. It performs the division operation and prints the intermediate steps for debugging purposes. It then calls the function with a dividend of 10 and a divisor of 0, which will cause an error.\n",
    "\n",
    "Run the code cell by pressing `Shift` + `Enter` or clicking on the \"Run\" button in the toolbar. Observe the output and the error message that is displayed."
   ]
  },
  {
   "cell_type": "code",
   "execution_count": null,
   "id": "3c6debbb",
   "metadata": {},
   "outputs": [],
   "source": []
  },
  {
   "cell_type": "markdown",
   "id": "ea7f2e2e",
   "metadata": {},
   "source": [
    "Analyse the output and the error message to identify the cause of the error."
   ]
  },
  {
   "cell_type": "markdown",
   "id": "55dadc60",
   "metadata": {},
   "source": [
    "## Exception Handling with `try-except` Blocks\n",
    "\n",
    "In the code cell below, type in the following Python code:\n",
    "\n",
    "```python \n",
    "\n",
    "# Example of exception handling \n",
    "\n",
    "dividend = 10 \n",
    "\n",
    "divisor = 0 \n",
    "\n",
    "try:\n",
    "    \n",
    "    quotient = dividend / divisor\n",
    "    \n",
    "    print(\"Quotient:\", quotient)\n",
    "\n",
    "except ZeroDivisionError:\n",
    "    \n",
    "    print(\"Error: Division by zero!\") \n",
    "\n",
    "``` \n",
    "\n",
    "This code uses a `try-except` block to handle the `ZeroDivisionError` that occurs when dividing by zero. The `try` block contains the code that may raise an exception, while the `except` block handles the specific exception by printing an error message.\n",
    "\n",
    "Run the code cell by pressing `Shift` + `Enter` or clicking on the \"Run\" button in the toolbar. The code will execute without raising an error, and the exception will be gracefully handled by the `except` block. "
   ]
  },
  {
   "cell_type": "code",
   "execution_count": null,
   "id": "dffe246c",
   "metadata": {},
   "outputs": [],
   "source": []
  },
  {
   "cell_type": "markdown",
   "id": "3d49543a",
   "metadata": {},
   "source": [
    "Modify the value of the divisor to a non-zero value and observe the output.  The division will be performed successfully."
   ]
  },
  {
   "cell_type": "markdown",
   "id": "869c6375",
   "metadata": {},
   "source": [
    "Congratulations! You have learned how to handle exceptions in Python. You explored print debugging to identify errors by printing intermediate values, and implemented exception handling using `try-except` blocks to gracefully handle errors. \n",
    "\n",
    "\n",
    "Continue practicing by applying these techniques to your own code, adding more error handling cases, and exploring additional debugging tools and techniques available in Python. \n",
    "\n",
    "Enjoy debugging and handling exceptions in Python! "
   ]
  }
 ],
 "metadata": {
  "kernelspec": {
   "display_name": "Python 3 (ipykernel)",
   "language": "python",
   "name": "python3"
  },
  "language_info": {
   "codemirror_mode": {
    "name": "ipython",
    "version": 3
   },
   "file_extension": ".py",
   "mimetype": "text/x-python",
   "name": "python",
   "nbconvert_exporter": "python",
   "pygments_lexer": "ipython3",
   "version": "3.11.3"
  }
 },
 "nbformat": 4,
 "nbformat_minor": 5
}
