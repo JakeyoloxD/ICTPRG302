{
 "cells": [
  {
   "cell_type": "markdown",
   "id": "cafcdfe0",
   "metadata": {},
   "source": [
    "# Tutorial: Writing Loops in Python\n",
    "\n",
    "In this tutorial, we will guide you through the process of writing loops in Python.  Loops allow you to repeatedly execute a block of code based on a condition.  We will cover the 'for' loop and the 'while' loop, along with their syntax and usage.  Let's get started."
   ]
  },
  {
   "cell_type": "markdown",
   "id": "45b39f5e",
   "metadata": {},
   "source": [
    "## Writing 'for' Loops\n",
    "\n",
    "In the code cell below, type the following Python code:\n",
    "\n",
    "\n",
    "```python\n",
    "\n",
    "# Example of a for loop\n",
    "\n",
    "fruits = [\"apple\", \"banana\", \"orange\"]\n",
    "\n",
    "for fruit in fruits:\n",
    "    print(fruit)\n",
    "\n",
    "```\n",
    "\n",
    "This code uses a `for` loop to iterate over each element in the `fruits` list and print each element.\n",
    "\n",
    "Run the code cell by pressing `Shift` + `Enter` or clicking on the \"Run\" button in the toolbar.  The output will display each fruit in a seperate line."
   ]
  },
  {
   "cell_type": "code",
   "execution_count": null,
   "id": "edc85ce5",
   "metadata": {},
   "outputs": [],
   "source": []
  },
  {
   "cell_type": "markdown",
   "id": "b640fa8b",
   "metadata": {},
   "source": [
    "Experiment with different lists and observe how the 'for' loop iterates over the elements"
   ]
  },
  {
   "cell_type": "markdown",
   "id": "95732960",
   "metadata": {},
   "source": [
    "## Writing 'while' Loops\n",
    "\n",
    "In the code cell below, type the following Python code:\n",
    "\n",
    "\n",
    "```python\n",
    "\n",
    "# Example of a while loop\n",
    "\n",
    "count = 0\n",
    "\n",
    "while count < 5:\n",
    "    print(\"Count: \",count)\n",
    "    count += 1\n",
    "\n",
    "```\n",
    "\n",
    "This code uses a `while` loop to repeatedly execute the indented block of code as long as the condition `count < 5` is `True`. It prints the value of `count` in each iteration. \n",
    "\n",
    "Run the code cell by pressing `Shift` + `Enter` or clicking on the \"Run\" button in the toolbar.  The loop will execute give times, incrementing the value of the `count` by 1 in each iteration."
   ]
  },
  {
   "cell_type": "code",
   "execution_count": null,
   "id": "acb9ed3a",
   "metadata": {},
   "outputs": [],
   "source": []
  },
  {
   "cell_type": "markdown",
   "id": "31b83fd2",
   "metadata": {},
   "source": [
    "WARNING: Be caution when writing 'while' loops to avoid infinite loops.  Make sure to include a condition that will eventually become 'False' to exit the loop."
   ]
  },
  {
   "cell_type": "markdown",
   "id": "0b2ef797",
   "metadata": {},
   "source": [
    "## Loop Control Statements\n",
    "\n",
    "In the code cell below, type the following Python code:\n",
    "\n",
    "\n",
    "```python\n",
    "\n",
    "# Example of loop control statements\n",
    "\n",
    "numbers = [1, 2, 3, 4, 5]\n",
    "\n",
    "for number in numbers:\n",
    "    if number == 3:\n",
    "        continue\n",
    "    if number == 5:\n",
    "        break\n",
    "    print(number)\n",
    "\n",
    "```\n",
    "\n",
    "This code demonstrates the use of loop control statements within a `for` loop. The `continue` statement skips the iteration when `number` is equal to 3, and the `break` statement terminates the loop when `number` is equal to 5.\n",
    "\n",
    "Run the code cell by pressing `Shift` + `Enter` or clicking on the \"Run\" button in the toolbar.  The loop will skip the number 3 and terminate when it reaches the number 5."
   ]
  },
  {
   "cell_type": "code",
   "execution_count": null,
   "id": "0b029686",
   "metadata": {},
   "outputs": [],
   "source": []
  },
  {
   "cell_type": "markdown",
   "id": "d2fae094",
   "metadata": {},
   "source": [
    "Experiment with different conditions and observe how the loop control statements affect the execution of the loop. "
   ]
  },
  {
   "cell_type": "markdown",
   "id": "faffa86a",
   "metadata": {},
   "source": [
    "## Nested Loops\n",
    "\n",
    "In the code cell below, type the following Python code:\n",
    "\n",
    "\n",
    "```python\n",
    "\n",
    "# Example of nested loops\n",
    "\n",
    "for i in range(3):\n",
    "    for j in range(2):\n",
    "        print(i, j)\n",
    "\n",
    "```\n",
    "\n",
    "This code demonstrates nested loops, where a loop is placed inside another loop. In this case, there is an outer loop that iterates from 0 to 2, and an inner loop that iterates from 0 to 1. It prints the values of `i` and `j` in each iteration.\n",
    "\n",
    "This code demonstrates nested loops, where a loop is placed inside another loop. In this case, there is an outer loop that iterates from  \n",
    "\n",
    "Run the code cell by pressing `Shift` + `Enter` or clicking on the \"Run\" button in the toolbar.   The nested loops will produce a set of combinations of `i` and `j` values."
   ]
  },
  {
   "cell_type": "code",
   "execution_count": null,
   "id": "d80c7953",
   "metadata": {},
   "outputs": [],
   "source": []
  },
  {
   "cell_type": "markdown",
   "id": "b8deef55",
   "metadata": {},
   "source": [
    "Congratulations! You have learned how to write loops in Python. You explored the `for` loop and the `while` loop, as well as loop control statements and nested loops. Loops are essential for iterating over elements in lists, performing repetitive tasks, and controlling program flow. \n",
    "\n",
    "Continue practicing by writing more complex loops and experimenting with different conditions and variables. You can also combine loops with conditional statements to create more sophisticated programs. \n",
    "\n",
    "Enjoy coding with loops in Python! "
   ]
  },
  {
   "cell_type": "code",
   "execution_count": null,
   "id": "9b8b5417",
   "metadata": {},
   "outputs": [],
   "source": []
  }
 ],
 "metadata": {
  "kernelspec": {
   "display_name": "Python 3 (ipykernel)",
   "language": "python",
   "name": "python3"
  },
  "language_info": {
   "codemirror_mode": {
    "name": "ipython",
    "version": 3
   },
   "file_extension": ".py",
   "mimetype": "text/x-python",
   "name": "python",
   "nbconvert_exporter": "python",
   "pygments_lexer": "ipython3",
   "version": "3.11.3"
  }
 },
 "nbformat": 4,
 "nbformat_minor": 5
}
