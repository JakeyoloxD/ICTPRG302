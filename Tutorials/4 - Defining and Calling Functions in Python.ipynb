{
 "cells": [
  {
   "cell_type": "markdown",
   "id": "5f020463",
   "metadata": {},
   "source": [
    "# Tutorial - Defining and Calling Functions in Python\n",
    "\n",
    "In this tutorial, we will guide you through the process of defining and calling functions in Python. Functions are reusable blocks of code that perform a specific task. We will cover the syntax and usage of function definition, function parameters, return values, and function calls. Let's get started!"
   ]
  },
  {
   "cell_type": "markdown",
   "id": "ed32985b",
   "metadata": {},
   "source": [
    "## Defining Functions\n",
    "\n",
    "In the code cell below, type the following Python code:\n",
    "\n",
    "```python\n",
    "\n",
    "# Example of a function definition\n",
    "\n",
    "def greet():\n",
    "    print(\"Hello, there!\")\n",
    "\n",
    "```\n",
    "\n",
    "This code defines a function named `greet` that prints the message \"Hello, there!\".\n",
    "\n",
    "Run the code cell by pressing `Shift` + `Enter` or clicking on the \"Run\" button in the toolbar. The function will be defined, but it won't produce any output."
   ]
  },
  {
   "cell_type": "code",
   "execution_count": null,
   "id": "357597ec",
   "metadata": {},
   "outputs": [],
   "source": []
  },
  {
   "cell_type": "markdown",
   "id": "530d572e",
   "metadata": {},
   "source": [
    "## Calling Functions\n",
    "\n",
    "In the code cell below, type of the following Python code:\n",
    "\n",
    "```python\n",
    "\n",
    "# Example of calling a function\n",
    "\n",
    "greet()\n",
    "\n",
    "\n",
    "```\n",
    "\n",
    "This code calls the 'greet' function that was defined in the previous step.\n",
    "\n",
    "Run the code cell by pressing `Shift` + `Enter` or clicking on the \"Run\" button in the toolbar.  The function call will execute the code inside the function and print the message \"Hello, there!\"."
   ]
  },
  {
   "cell_type": "code",
   "execution_count": null,
   "id": "6fe7a219",
   "metadata": {},
   "outputs": [],
   "source": []
  },
  {
   "cell_type": "markdown",
   "id": "5babd8a5",
   "metadata": {},
   "source": [
    "## Function Parameters\n",
    "\n",
    "In the code cell below, type the following Python code:\n",
    "\n",
    "```python\n",
    "\n",
    "# Example of a function with parameters\n",
    "\n",
    "def greet(name):\n",
    "    print(\"Hello, \" + name + \"!\")\n",
    "\n",
    "```\n",
    "\n",
    "This code defines a function named `greet` that takes a parameter named `name`. The function prints a personalised greeting by concatenating the value of `name` with the message.\n",
    "\n",
    "Run the code cell by pressing `Shift` + `Enter` or clicking on the \"Run\" button in the toolbar. "
   ]
  },
  {
   "cell_type": "code",
   "execution_count": null,
   "id": "1a749b09",
   "metadata": {},
   "outputs": [],
   "source": []
  },
  {
   "cell_type": "markdown",
   "id": "157cbe86",
   "metadata": {},
   "source": [
    "In the code cell below, type the following Python code:\n",
    "\n",
    "```python\n",
    "\n",
    "# Example of calling a function with arguments\n",
    "\n",
    "greet(\"Alice\")\n",
    "greet(\"Bob\")\n",
    "\n",
    "```\n",
    "\n",
    "This code calls the `greet` function multiple times with different arguments passed as the `name` parameter.\n",
    "\n",
    "Run the code cell by pressing `Shift` + `Enter` or clicking on the \"Run\" button in the toolbar.  The function calls will execute the code inside the function and print personalised greetings for the names \"Alice\" and \"Bob\"."
   ]
  },
  {
   "cell_type": "code",
   "execution_count": null,
   "id": "799cf63f",
   "metadata": {},
   "outputs": [],
   "source": []
  },
  {
   "cell_type": "markdown",
   "id": "1a6e57d7",
   "metadata": {},
   "source": [
    "## Return Values\n",
    "\n",
    "In the code cell below, type the following Python code:\n",
    "\n",
    "```python \n",
    "\n",
    "# Example of a function with a return value \n",
    "\n",
    "def add_numbers(a, b): \n",
    "    return a + b \n",
    "\n",
    "```\n",
    "\n",
    "This code defines a function named `add_numbers` that takes two parameters, `a` and `b`. The function returns the sum of `a` and `b` using the `return` statement.\n",
    "\n",
    "Run the code cell by pressing `Shift` + `Enter` or clicking on the \"Run\" button in the toolbar to define the `add_numbers` function."
   ]
  },
  {
   "cell_type": "code",
   "execution_count": null,
   "id": "9e18e822",
   "metadata": {},
   "outputs": [],
   "source": []
  },
  {
   "cell_type": "markdown",
   "id": "e8356c17",
   "metadata": {},
   "source": [
    "In the code cell below, type the following Python code:\n",
    "\n",
    "\n",
    "```python \n",
    "\n",
    "# Example of calling a function with a return value \n",
    "\n",
    "result = add_numbers(5, 3) \n",
    "\n",
    "print(\"Result:\", result) \n",
    "\n",
    "``` \n",
    "\n",
    "This code calls the `add_numbers` function and assigns the returned value to a variable named `result`. It then prints the value of `result`.\n",
    "\n",
    "Run the code cell by pressing `Shift` + `Enter` or clicking on the \"Run\" button in the toolbar"
   ]
  },
  {
   "cell_type": "code",
   "execution_count": null,
   "id": "fe0c3f30",
   "metadata": {},
   "outputs": [],
   "source": []
  },
  {
   "cell_type": "markdown",
   "id": "f7f9169a",
   "metadata": {},
   "source": [
    "Congratulations! You have learned how to define and call functions in Python. You explored function definition, function parameters, return values, and function calls. Functions are powerful tools that allow you to encapsulate reusable code and perform specific tasks. \n",
    "\n",
    "Continue practicing by defining and calling more functions with different parameters and return values. You can also explore additional concepts such as default arguments, variable-length arguments, and recursive functions. \n",
    "\n",
    "\n",
    "Enjoy coding with functions in Python! "
   ]
  }
 ],
 "metadata": {
  "kernelspec": {
   "display_name": "Python 3 (ipykernel)",
   "language": "python",
   "name": "python3"
  },
  "language_info": {
   "codemirror_mode": {
    "name": "ipython",
    "version": 3
   },
   "file_extension": ".py",
   "mimetype": "text/x-python",
   "name": "python",
   "nbconvert_exporter": "python",
   "pygments_lexer": "ipython3",
   "version": "3.11.3"
  }
 },
 "nbformat": 4,
 "nbformat_minor": 5
}
