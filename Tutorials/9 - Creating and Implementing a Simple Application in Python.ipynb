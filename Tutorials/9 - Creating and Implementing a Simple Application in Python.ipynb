{
 "cells": [
  {
   "cell_type": "markdown",
   "id": "8345007e",
   "metadata": {},
   "source": [
    "# Tutorial - Creating and Implementing a Simple Application in Python\n",
    "\n",
    "In this tutorial, we will guide you through the process of creating a simple application and implementing it in Python. We will cover the steps involved in the application, defining the program specifications, and implementing the application using Python code. Let's get started!"
   ]
  },
  {
   "cell_type": "markdown",
   "id": "de8e4c07",
   "metadata": {},
   "source": [
    "## Designing the Application\n",
    "\n",
    "In the markdown cells below, describe the purporse and functionality of your simple application that will calcualte the area of a rectangle based on user input for the length and width."
   ]
  },
  {
   "cell_type": "markdown",
   "id": "a2949b2f",
   "metadata": {},
   "source": [
    "What are the inputs required? : "
   ]
  },
  {
   "cell_type": "markdown",
   "id": "ccc188be",
   "metadata": {},
   "source": [
    "What are the outputs required? : "
   ]
  },
  {
   "cell_type": "markdown",
   "id": "9802e7e4",
   "metadata": {},
   "source": [
    "## Defining Program Specifications\n",
    "\n",
    "In the markdown cells below, define the program specifications based on your application design.  Specify the expected behaviour, inputs, and outputs of the application:"
   ]
  },
  {
   "cell_type": "markdown",
   "id": "33d59898",
   "metadata": {},
   "source": [
    "- Behaviour: "
   ]
  },
  {
   "cell_type": "markdown",
   "id": "5219614c",
   "metadata": {},
   "source": [
    "- Inputs: "
   ]
  },
  {
   "cell_type": "markdown",
   "id": "baff4c55",
   "metadata": {},
   "source": [
    "- Outputs: "
   ]
  },
  {
   "cell_type": "markdown",
   "id": "33d58708",
   "metadata": {},
   "source": [
    "## Implementing the Application\n",
    "\n",
    "In the code cell below, write the Python code to Implement the application based on the specifications.  We have started the code for you.\n",
    "\n",
    "When you have completed the code cell, Run the code cell by pressiong `Shift` + `Enter` or clicking on the \"Run\" button in the toolbar.  The application will prompt the user for input, calculte teh area, and display the result.\n",
    "\n",
    "Test the application by entering different values for length and width.  Verify that the applicaiton calculates the area correctly and displays the expected output."
   ]
  },
  {
   "cell_type": "code",
   "execution_count": null,
   "id": "a0fd78be",
   "metadata": {},
   "outputs": [],
   "source": [
    "# Application to calcualte the area of a rectangle\n",
    "\n",
    "# Prompt the user for input\n",
    "\n",
    "# Calculate the area\n",
    "\n",
    "# Display the result"
   ]
  },
  {
   "cell_type": "markdown",
   "id": "9027e0ef",
   "metadata": {},
   "source": [
    "Congratulations! You have designed and implemented a simple application in Python. You went through the process of designing the application, defining the program specifications, and writing the Python code to implement the application.\n",
    " \n",
    "Continue practicing by designing and implementing more complex applications, exploring different functionalities, and incorporating additional features and user interactions.\n",
    " \n",
    "Enjoy designing and implementing applications in Python!"
   ]
  }
 ],
 "metadata": {
  "kernelspec": {
   "display_name": "Python 3 (ipykernel)",
   "language": "python",
   "name": "python3"
  },
  "language_info": {
   "codemirror_mode": {
    "name": "ipython",
    "version": 3
   },
   "file_extension": ".py",
   "mimetype": "text/x-python",
   "name": "python",
   "nbconvert_exporter": "python",
   "pygments_lexer": "ipython3",
   "version": "3.11.3"
  }
 },
 "nbformat": 4,
 "nbformat_minor": 5
}
