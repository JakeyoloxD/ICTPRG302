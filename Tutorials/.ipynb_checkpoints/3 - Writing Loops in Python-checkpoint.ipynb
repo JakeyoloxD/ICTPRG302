{
 "cells": [
  {
   "cell_type": "markdown",
   "id": "f17c73be",
   "metadata": {},
   "source": [
    "# Tutorial: Writing Loops in Python\n",
    "\n",
    "In this tutorial, we will guide you through the process of writing loops in Python.  Loops allow you to repeatedly execute a block of code based on a condition.  We will cover the `for` loop and the `while` loop, along with their syntax and usage.  Let's get started."
   ]
  },
  {
   "cell_type": "markdown",
   "id": "5044cf9f",
   "metadata": {},
   "source": [
    "## Writing `for` loops\n",
    "\n",
    "In the code cell below, type the following Python code:\n",
    "\n",
    "```python\n",
    "\n",
    "# Example of a for loop\n",
    "\n",
    "fruits = [\"apple\", \"banana\", \"orange\"]\n",
    "\n",
    "for fruit in fruits:\n",
    "    print(fruit)\n",
    "\n",
    "```\n",
    "\n",
    "This code uses a `for` loop to iterate over each element in the `fruits` list and prints each element.\n",
    "\n",
    "To run the code, press 'Shift' + 'Enter' or click on the \"Run\" button the in the toolbar.  The output will display each fruit in a separate line."
   ]
  },
  {
   "cell_type": "code",
   "execution_count": null,
   "id": "db0c8259",
   "metadata": {},
   "outputs": [],
   "source": []
  },
  {
   "cell_type": "markdown",
   "id": "d3c6a1b5",
   "metadata": {},
   "source": [
    "Experiment with different lists and observe how the `for` loop iterates over the elements."
   ]
  },
  {
   "cell_type": "markdown",
   "id": "8006ea1f",
   "metadata": {},
   "source": [
    "## Writing `while` loops\n",
    "\n",
    "In the code cell below, type the following Python code:\n",
    "\n",
    "\n",
    "```python \n",
    "\n",
    "# Example of a while loop \n",
    "\n",
    "count = 0 \n",
    "\n",
    "while count < 5:\n",
    "    print(\"Count:\", count)\n",
    "    count += 1 \n",
    "\n",
    "``` \n",
    "This code uses a `while` loop to repeatedly execute the indented block of code as long as the condition `count < 5` is `True`. It prints the value of `count` in each iteration.\n",
    "\n",
    "To run the code, press 'Shift' + 'Enter' or click on the \"Run\" button the in the toolbar.  The loop will execute five times, incrementing the value of `count` by 1 in each iteration."
   ]
  },
  {
   "cell_type": "code",
   "execution_count": null,
   "id": "022e8dc0",
   "metadata": {},
   "outputs": [],
   "source": []
  },
  {
   "cell_type": "markdown",
   "id": "81e391af",
   "metadata": {},
   "source": [
    "Be cautious when writing `while` loops to avoid infinite loops. Make sure to include a condition that will eventually become `False` to exit the loop."
   ]
  },
  {
   "cell_type": "markdown",
   "id": "5c73d9a3",
   "metadata": {},
   "source": [
    "## Loop control statements\n",
    "\n",
    "In the code cell below, type in the following Python code:\n",
    "\n",
    "```python \n",
    "\n",
    "# Example of loop control statements \n",
    "\n",
    "numbers = [1, 2, 3, 4, 5] \n",
    "\n",
    "for number in numbers:\n",
    "    if number == 3:\n",
    "        continue\n",
    "    if number == 5:\n",
    "        break\n",
    "    print(number) \n",
    "\n",
    "``` \n",
    "\n",
    "This code demonstrates the use of loop control statements within a `for` loop. The `continue` statement skips the iteration when `number` is equal to 3, and the `break` statement terminates the loop when `number` is equal to 5.\n",
    "\n",
    "To run the code, press 'Shift' + 'Enter' or click on the \"Run\" button the in the toolbar. The loop will skip the number 3 and terminate when it reaches the number 5. "
   ]
  },
  {
   "cell_type": "code",
   "execution_count": null,
   "id": "89a63674",
   "metadata": {},
   "outputs": [],
   "source": []
  },
  {
   "cell_type": "markdown",
   "id": "dcc93b1d",
   "metadata": {},
   "source": [
    "Experiment with different conditions and observe how the loop control statements affect the execution of the loop."
   ]
  },
  {
   "cell_type": "markdown",
   "id": "080c238a",
   "metadata": {},
   "source": [
    "## Nested Loops\n",
    "\n",
    "In the code cell below, type in the following Python code:\n",
    "\n",
    "```python \n",
    "\n",
    "# Example of nested loops \n",
    "\n",
    "for i in range(3):\n",
    "    for j in range(2):\n",
    "        print(i, j) \n",
    "\n",
    "```\n",
    "\n",
    "This code demonstrates nested loops, where a loop is placed inside another loop. In this case, there is an outer loop that iterates from 0 to 2, and an inner loop that iterates from 0 to 1. It prints the values of `i` and `j` in each iteration.\n",
    "\n",
    "To run the code, press 'Shift' + 'Enter' or click on the \"Run\" button the in the toolbar. The nested loops will produce a set of combinations of `i` and `j` values."
   ]
  },
  {
   "cell_type": "code",
   "execution_count": null,
   "id": "7a885c9a",
   "metadata": {},
   "outputs": [],
   "source": []
  },
  {
   "cell_type": "markdown",
   "id": "10146319",
   "metadata": {},
   "source": [
    "Congratulations! You have learned how to write loops in Python. You explored the `for` loop and the `while` loop, as well as loop control statements and nested loops. Loops are essential for iterating over elements in lists, performing repetitive tasks, and controlling program flow. \n",
    "\n",
    "Continue practicing by writing more complex loops and experimenting with different conditions and variables. You can also combine loops with conditional statements to create more sophisticated programs. \n",
    "\n",
    "Enjoy coding with loops in Python! "
   ]
  }
 ],
 "metadata": {
  "kernelspec": {
   "display_name": "Python 3 (ipykernel)",
   "language": "python",
   "name": "python3"
  },
  "language_info": {
   "codemirror_mode": {
    "name": "ipython",
    "version": 3
   },
   "file_extension": ".py",
   "mimetype": "text/x-python",
   "name": "python",
   "nbconvert_exporter": "python",
   "pygments_lexer": "ipython3",
   "version": "3.11.3"
  }
 },
 "nbformat": 4,
 "nbformat_minor": 5
}
