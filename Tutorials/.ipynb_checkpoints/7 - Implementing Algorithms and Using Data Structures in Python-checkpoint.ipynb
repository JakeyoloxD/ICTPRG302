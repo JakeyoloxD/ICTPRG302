{
 "cells": [
  {
   "cell_type": "markdown",
   "id": "f8eabae5",
   "metadata": {},
   "source": [
    "# Tutorial - Implementing Algorithms and Using Data Structures in Python\n",
    "\n",
    "In this tutorial, we will guide you through the process of implementing algorithms and using data structures in Python. Algorithms are step-by-step instructions to solve specific problems, while data structures allow you to organize and store data efficiently. We will cover the implementation of basic algorithms using sequence, selection, and iteration constructs, as well as the usage of common data structures such as lists and dictionaries. Let's get started!"
   ]
  },
  {
   "cell_type": "markdown",
   "id": "324e9e75",
   "metadata": {},
   "source": [
    "## Implementing Algorithms\n",
    "\n",
    "In the code cell below, type in the following Python code:\n",
    "\n",
    " ```python\n",
    "\n",
    "# Example of implementing an algorithm\n",
    "\n",
    "def sum_numbers(numbers):\n",
    "    \n",
    "    total = 0\n",
    "    \n",
    "    for number in numbers:\n",
    "        total += number\n",
    "    \n",
    "    return total \n",
    "\n",
    "numbers = [1, 2, 3, 4, 5]\n",
    "\n",
    "result = sum_numbers(numbers)\n",
    "\n",
    "print(\"Sum:\", result)\n",
    "\n",
    "```\n",
    "\n",
    "This code defines a function named `sum_numbers` that takes a list of numbers as a parameter. It iterates over the numbers using a `for` loop and calculates the sum by adding each number to the `total` variable. The function returns the total sum.\n",
    "\n",
    "Run the code cell by pressing `Shift` + `Enter` or clicking on the \"Run\" button in the toolbar. The function will be defined, and the sum of the numbers will be calculated and displayed."
   ]
  },
  {
   "cell_type": "code",
   "execution_count": null,
   "id": "0ba8ccc4",
   "metadata": {},
   "outputs": [],
   "source": []
  },
  {
   "cell_type": "markdown",
   "id": "7b7f3719",
   "metadata": {},
   "source": [
    "Experiment with different lists of numbers and observe how the algorithm calculates the sum."
   ]
  },
  {
   "cell_type": "markdown",
   "id": "ceacbd72",
   "metadata": {},
   "source": [
    "## Using Data Structures\n",
    "\n",
    "In the code cell below, type in the following Python code:\n",
    "\n",
    "```python\n",
    "\n",
    "# Example of using data structures\n",
    "\n",
    "students = [\"Alice\", \"Bob\", \"Charlie\"]\n",
    "\n",
    "scores = [90, 85, 95]\n",
    "\n",
    "student_data = dict(zip(students, scores))\n",
    "\n",
    "print(\"Student Data:\", student_data)\n",
    "\n",
    "print(\"Bob's Score:\", student_data[\"Bob\"])\n",
    "\n",
    "``` \n",
    "\n",
    "This code demonstrates the usage of data structures. It creates two lists, `students` and `scores`, which represent the names of students and their corresponding scores. It then uses the `zip` function to combine the two lists into a dictionary named `student_data`. Finally, it accesses and prints specific values from the dictionary. \n",
    "\n",
    "Run the code cell by pressing `Shift` + `Enter` or clicking on the \"Run\" button in the toolbar. The dictionary `student_data` will be created, and specific values will be printed. "
   ]
  },
  {
   "cell_type": "code",
   "execution_count": null,
   "id": "4b75ca57",
   "metadata": {},
   "outputs": [],
   "source": []
  },
  {
   "cell_type": "markdown",
   "id": "184611da",
   "metadata": {},
   "source": [
    "Experiment with different data structures such as lists, dictionaries, and sets. Explore their properties and operations. "
   ]
  },
  {
   "cell_type": "markdown",
   "id": "8e1b65a7",
   "metadata": {},
   "source": [
    "## Advanced Algorithms and Data Structures\n",
    "\n",
    "In the code cell below, type in the following Python code:\n",
    "\n",
    "```python\n",
    "\n",
    "# Example of advanced algorithms and data structures\n",
    "\n",
    "def factorial(n):\n",
    "    \n",
    "    if n == 0 or n == 1:\n",
    "        return 1\n",
    "    else:\n",
    "        return n * factorial(n - 1)\n",
    "    \n",
    "number = 5\n",
    "\n",
    "result = factorial(number)\n",
    "\n",
    "print(\"Factorial of\", number, \"is\", result)\n",
    "\n",
    "``` \n",
    "\n",
    "This code demonstrates an advanced algorithm, the factorial function. The function uses recursion to calculate the factorial of a given number. It defines a base case when `n` is 0 or 1, and recursively calls itself to calculate the factorial for larger numbers. \n",
    "\n",
    "Run the code cell by pressing `Shift` + `Enter` or clicking on the \"Run\" button in the toolbar to define the `factorial` function and calculate the factorial of a number. "
   ]
  },
  {
   "cell_type": "code",
   "execution_count": null,
   "id": "fdf9c269",
   "metadata": {},
   "outputs": [],
   "source": []
  },
  {
   "cell_type": "markdown",
   "id": "6d6d3d01",
   "metadata": {},
   "source": [
    "Experiment with different numbers and observe how the factorial function works. "
   ]
  },
  {
   "cell_type": "markdown",
   "id": "50ad73e0",
   "metadata": {},
   "source": [
    "Congratulations! You have learned how to implement algorithms and use data structures in Python. You explored the implementation of basic algorithms using sequence, selection, and iteration constructs, as well as the usage of common data structures such as lists and dictionaries. Algorithms and data structures are fundamental concepts in computer science and programming.\n",
    "\n",
    "Continue practicing by implementing more complex algorithms, exploring additional data structures, and applying algorithms and data structures to solve specific problems.\n",
    "\n",
    "Enjoy implementing algorithms and using data structures in Python! "
   ]
  }
 ],
 "metadata": {
  "kernelspec": {
   "display_name": "Python 3 (ipykernel)",
   "language": "python",
   "name": "python3"
  },
  "language_info": {
   "codemirror_mode": {
    "name": "ipython",
    "version": 3
   },
   "file_extension": ".py",
   "mimetype": "text/x-python",
   "name": "python",
   "nbconvert_exporter": "python",
   "pygments_lexer": "ipython3",
   "version": "3.11.3"
  }
 },
 "nbformat": 4,
 "nbformat_minor": 5
}
